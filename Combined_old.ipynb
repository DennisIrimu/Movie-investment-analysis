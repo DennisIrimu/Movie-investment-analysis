{
 "cells": [
  {
   "cell_type": "code",
   "execution_count": 1,
   "metadata": {},
   "outputs": [
    {
     "ename": "ModuleNotFoundError",
     "evalue": "No module named 'rapidfuzz'",
     "output_type": "error",
     "traceback": [
      "\u001b[1;31m---------------------------------------------------------------------------\u001b[0m",
      "\u001b[1;31mModuleNotFoundError\u001b[0m                       Traceback (most recent call last)",
      "\u001b[1;32m<ipython-input-1-6d1bafd3eb08>\u001b[0m in \u001b[0;36m<module>\u001b[1;34m\u001b[0m\n\u001b[0;32m      1\u001b[0m \u001b[1;32mimport\u001b[0m \u001b[0mpandas\u001b[0m \u001b[1;32mas\u001b[0m \u001b[0mpd\u001b[0m\u001b[1;33m\u001b[0m\u001b[1;33m\u001b[0m\u001b[0m\n\u001b[0;32m      2\u001b[0m \u001b[1;32mimport\u001b[0m \u001b[0mnumpy\u001b[0m \u001b[1;32mas\u001b[0m \u001b[0mnp\u001b[0m\u001b[1;33m\u001b[0m\u001b[1;33m\u001b[0m\u001b[0m\n\u001b[1;32m----> 3\u001b[1;33m \u001b[1;32mfrom\u001b[0m \u001b[0mrapidfuzz\u001b[0m \u001b[1;32mimport\u001b[0m \u001b[0mprocess\u001b[0m\u001b[1;33m,\u001b[0m \u001b[0mfuzz\u001b[0m\u001b[1;33m\u001b[0m\u001b[1;33m\u001b[0m\u001b[0m\n\u001b[0m\u001b[0;32m      4\u001b[0m \u001b[1;32mimport\u001b[0m \u001b[0mseaborn\u001b[0m \u001b[1;32mas\u001b[0m \u001b[0msns\u001b[0m\u001b[1;33m\u001b[0m\u001b[1;33m\u001b[0m\u001b[0m\n\u001b[0;32m      5\u001b[0m \u001b[1;32mimport\u001b[0m \u001b[0mmatplotlib\u001b[0m\u001b[1;33m.\u001b[0m\u001b[0mpyplot\u001b[0m \u001b[1;32mas\u001b[0m \u001b[0mplt\u001b[0m\u001b[1;33m\u001b[0m\u001b[1;33m\u001b[0m\u001b[0m\n",
      "\u001b[1;31mModuleNotFoundError\u001b[0m: No module named 'rapidfuzz'"
     ]
    }
   ],
   "source": [
    "import pandas as pd\n",
    "import numpy as np\n",
    "from rapidfuzz import process, fuzz\n",
    "import seaborn as sns\n",
    "import matplotlib.pyplot as plt\n",
    "import statsmodels.api as sm\n",
    "from scipy.stats import ttest_rel\n",
    "\n",
    "df_numbers = pd.read_csv(\"cleaned_numbers.csv\")\n",
    "df_numbers.head()"
   ]
  },
  {
   "cell_type": "code",
   "execution_count": null,
   "metadata": {},
   "outputs": [],
   "source": [
    "df_imtm = pd.read_csv(\"combinedimdbtmdb.csv\")\n",
    "df_imtm.head()"
   ]
  },
  {
   "cell_type": "code",
   "execution_count": null,
   "metadata": {},
   "outputs": [],
   "source": [
    "# Quick exact title join using the titles for initial corelation checks\n",
    "merged_check = pd.merge(df_numbers, df_imtm, left_on=\"movie\", right_on=\"primary_title\", how=\"inner\")\n",
    "merged_check.head()\n"
   ]
  },
  {
   "cell_type": "code",
   "execution_count": null,
   "metadata": {},
   "outputs": [],
   "source": [
    "merged_check.info()"
   ]
  },
  {
   "cell_type": "code",
   "execution_count": null,
   "metadata": {},
   "outputs": [],
   "source": [
    "#Use fuzzy match to compare titles\n",
    "\n",
    "# Create a dictionary mapping  combined data title -> numbers_title()\n",
    "title_map = {}\n",
    "\n",
    "tmdb_titles = tmdb_df['title'].tolist()\n",
    "\n",
    "for imdb_title in imdb_df['primary_title']:\n",
    "    match, score, idx = process.extractOne(\n",
    "        imdb_title, tmdb_titles, scorer=fuzz.token_sort_ratio\n",
    "    )\n",
    "    if score >= 85:  # threshold (0-100), adjust if too strict/loose\n",
    "        title_map[imdb_title] = match\n",
    "\n",
    "\n",
    "imdb_df['tmdb_match'] = imdb_df['primary_title'].map(title_map)\n",
    "\n",
    "# Merge on imdb.primary_title -> tmdb.title\n",
    "combined_df = imdb_df.merge(\n",
    "    tmdb_df,\n",
    "    left_on='tmdb_match',\n",
    "    right_on='title',\n",
    "    how='inner',\n",
    "    suffixes=('_imdb','_tmdb')\n",
    ")"
   ]
  },
  {
   "cell_type": "code",
   "execution_count": null,
   "metadata": {},
   "outputs": [],
   "source": [
    "#Use fuzzy match to compare titles\n",
    "\n",
    "# Create a dictionary mapping imdb_title -> best tmdb_title\n",
    "title_map = {}\n",
    "\n",
    "numbers_titles = df_numbers['movie'].tolist() #List of all movie titles from numbers for cross reference\n",
    "\n",
    "for imtm_title in df_imtm['primary_title']:\n",
    "    match, score, idx = process.extractOne(\n",
    "        imtm_title, numbers_titles, scorer=fuzz.token_sort_ratio\n",
    "    )\n",
    "    if score >= 85:  # threshold (0-100), adjust if too strict/loose\n",
    "        title_map[imtm_title] = match\n",
    "\n",
    "\n",
    "df_imtm['movie_name_match'] = df_imtm['primary_title'].map(title_map)\n",
    "\n",
    "# Merge on imdb.primary_title -> tmdb.title\n",
    "combined_df = df_imtm.merge(\n",
    "    df_numbers,\n",
    "    left_on='movie_name_match',\n",
    "    right_on='movie',\n",
    "    how='inner',\n",
    "    suffixes=('_numbers','_imdb/tmdb')\n",
    ")"
   ]
  },
  {
   "cell_type": "code",
   "execution_count": null,
   "metadata": {},
   "outputs": [],
   "source": [
    "combined_df.info()"
   ]
  },
  {
   "cell_type": "code",
   "execution_count": null,
   "metadata": {},
   "outputs": [],
   "source": [
    "#combined_df.to_csv(\"finalcombined.csv\", index=False)"
   ]
  }
 ],
 "metadata": {
  "kernelspec": {
   "display_name": "Python (learn-env)",
   "language": "python",
   "name": "learn-env"
  },
  "language_info": {
   "codemirror_mode": {
    "name": "ipython",
    "version": 3
   },
   "file_extension": ".py",
   "mimetype": "text/x-python",
   "name": "python",
   "nbconvert_exporter": "python",
   "pygments_lexer": "ipython3",
   "version": "3.8.5"
  }
 },
 "nbformat": 4,
 "nbformat_minor": 5
}
